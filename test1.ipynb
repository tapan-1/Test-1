{
  "nbformat": 4,
  "nbformat_minor": 0,
  "metadata": {
    "colab": {
      "provenance": [],
      "authorship_tag": "ABX9TyOoGcpz69hwT3Ck+S7L5usr",
      "include_colab_link": true
    },
    "kernelspec": {
      "name": "python3",
      "display_name": "Python 3"
    },
    "language_info": {
      "name": "python"
    }
  },
  "cells": [
    {
      "cell_type": "markdown",
      "metadata": {
        "id": "view-in-github",
        "colab_type": "text"
      },
      "source": [
        "<a href=\"https://colab.research.google.com/github/tapan-1/Test-1/blob/main/test1.ipynb\" target=\"_parent\"><img src=\"https://colab.research.google.com/assets/colab-badge.svg\" alt=\"Open In Colab\"/></a>"
      ]
    },
    {
      "cell_type": "code",
      "execution_count": 4,
      "metadata": {
        "id": "EmT30j59ER_R"
      },
      "outputs": [],
      "source": [
        "import pandas as pd\n"
      ]
    },
    {
      "cell_type": "code",
      "source": [
        "df = pd.read_excel(\"/content/Even.xlsx\") # Assign the result of pd.read_excel to df using the assignment operator (=)"
      ],
      "metadata": {
        "id": "r0q04RojE1aB"
      },
      "execution_count": 8,
      "outputs": []
    },
    {
      "cell_type": "code",
      "source": [
        "df = pd.DataFrame({\n",
        "    'Job Role': ['Data Analyst', 'Data Scientist', 'Data Engineer', 'Data Analyst', 'Business Intelligence Analyst']\n",
        "})\n",
        "\n"
      ],
      "metadata": {
        "id": "Ng_kTzd1FOah"
      },
      "execution_count": 10,
      "outputs": []
    },
    {
      "cell_type": "code",
      "source": [
        "unique_roles = df['Job Role'].nunique()\n",
        "print(f'Number of unique job roles: {unique_roles}')"
      ],
      "metadata": {
        "colab": {
          "base_uri": "https://localhost:8080/"
        },
        "id": "KIFlkieBHbZI",
        "outputId": "205ed808-5aaf-45be-f8e8-37168c32fcea"
      },
      "execution_count": 11,
      "outputs": [
        {
          "output_type": "stream",
          "name": "stdout",
          "text": [
            "Number of unique job roles: 4\n"
          ]
        }
      ]
    },
    {
      "cell_type": "code",
      "source": [
        "data = {\n",
        "    'Salary_per_Month': [3000, 4000, 5000],  # Example salaries in USD\n",
        "    'Total_Work_Hour_per_Month': [160, 180, 160]  # Example work hours per month\n",
        "}\n",
        "\n",
        "# Create a DataFrame\n",
        "df = pd.DataFrame(data)\n",
        "\n",
        "# Calculate Hourly Wage\n",
        "df['Hourly_Wage'] = df['Salary_per_Month'] / df['Total_Work_Hour_per_Month']\n"
      ],
      "metadata": {
        "id": "9wdrLjIhLuTj"
      },
      "execution_count": 18,
      "outputs": []
    }
  ]
}